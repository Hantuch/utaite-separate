{
 "cells": [
  {
   "cell_type": "code",
   "execution_count": null,
   "metadata": {},
   "outputs": [],
   "source": [
    "import torch\n",
    "import torchaudio\n",
    "from demucs import pretrained\n",
    "from demucs.apply import apply_model\n",
    "\n",
    "# Load pre-trained Demucs model\n",
    "model = pretrained.get_model('htdemucs')  # or 'mdx_extra_q' if you want MDX\n",
    "\n",
    "# Move model to GPU if available\n",
    "device = torch.device(\"cuda\" if torch.cuda.is_available() else \"cpu\")\n",
    "model.to(device)\n",
    "\n",
    "# Load audio \n",
    "wav, sr = torchaudio.load(\"song.mp3\")\n",
    "wav = wav.to(device)\n",
    "\n",
    "# Separate stems\n",
    "with torch.no_grad():\n",
    "    sources = apply_model(model, wav[None], device=device, split=True)\n",
    "\n",
    "# Extract vocals \n",
    "vocals = sources[0, 3].cpu()\n",
    "\n",
    "# Save the extracted vocals\n",
    "torchaudio.save(\"../output/vocals.wav\", vocals, sr)\n",
    "\n",
    "print(\"✅ Extraction complete: vocals.wav saved.\")"
   ]
  }
 ],
 "metadata": {
  "language_info": {
   "name": "python"
  }
 },
 "nbformat": 4,
 "nbformat_minor": 2
}
